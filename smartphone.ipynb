{
 "cells": [
  {
   "cell_type": "code",
   "execution_count": null,
   "id": "71c9be9e",
   "metadata": {},
   "outputs": [],
   "source": [
    "# Step 1: Import necessary libraries\n",
    "import pandas as pd\n",
    "import numpy as np\n",
    "\n",
    "# Step 2: Load the dataset\n",
    "df = pd.read_csv(\"smartphones.csv\")\n",
    "\n",
    "# Step 3: Explore the dataset\n",
    "print(\"---- Basic Info ----\")\n",
    "print(df.info())\n",
    "print(\"\\n---- Summary Statistics ----\")\n",
    "print(df.describe(include=\"all\"))\n",
    "print(\"\\n---- First 5 Rows ----\")\n",
    "print(df.head())\n"
   ]
  },
  {
   "cell_type": "code",
   "execution_count": null,
   "id": "8c0562c8",
   "metadata": {},
   "outputs": [],
   "source": [
    "# Check missing values\n",
    "print(\"\\n---- Missing Values ----\")\n",
    "print(df.isnull().sum())\n",
    "\n",
    "# Strategy:\n",
    "# - If a column has too many missing values, we may drop it\n",
    "# - Otherwise, fill missing values (numeric with mean/median, categorical with mode)\n",
    "\n",
    "# Example: Fill numeric with median, categorical with mode\n",
    "for col in df.columns:\n",
    "    if df[col].dtype in ['int64','float64']:\n",
    "        df[col].fillna(df[col].median(), inplace=True)\n",
    "    else:\n",
    "        df[col].fillna(df[col].mode()[0], inplace=True)\n"
   ]
  },
  {
   "cell_type": "code",
   "execution_count": null,
   "id": "41400658",
   "metadata": {},
   "outputs": [],
   "source": [
    "before = df.shape[0]\n",
    "df.drop_duplicates(inplace=True)\n",
    "after = df.shape[0]\n",
    "print(f\"Removed {before - after} duplicate rows\")\n"
   ]
  },
  {
   "cell_type": "code",
   "execution_count": null,
   "id": "f4af217c",
   "metadata": {},
   "outputs": [],
   "source": [
    "# Check datatypes\n",
    "print(df.dtypes)\n",
    "\n",
    "# Example conversions:\n",
    "# If 'Price' is object type -> convert to numeric\n",
    "if 'Price' in df.columns and df['Price'].dtype == 'object':\n",
    "    df['Price'] = df['Price'].replace('[\\$,]', '', regex=True).astype(float)\n",
    "\n",
    "# If 'Launch Date' column exists -> convert to datetime\n",
    "if 'Launch Date' in df.columns:\n",
    "    df['Launch Date'] = pd.to_datetime(df['Launch Date'], errors='coerce')\n",
    "\n",
    "# Convert categorical columns to category type\n",
    "for col in df.select_dtypes(include='object').columns:\n",
    "    df[col] = df[col].astype('category')\n"
   ]
  },
  {
   "cell_type": "code",
   "execution_count": null,
   "id": "407bcdbc",
   "metadata": {},
   "outputs": [],
   "source": [
    "print(\"\\n---- Final Dataset Info ----\")\n",
    "print(df.info())\n",
    "print(\"\\n---- Sample Rows After Cleaning ----\")\n",
    "print(df.head())\n"
   ]
  }
 ],
 "metadata": {
  "language_info": {
   "name": "python"
  }
 },
 "nbformat": 4,
 "nbformat_minor": 5
}
